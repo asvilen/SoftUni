{
 "cells": [
  {
   "cell_type": "code",
   "execution_count": 1,
   "id": "6d5a2eba",
   "metadata": {},
   "outputs": [],
   "source": [
    "import numpy as np\n",
    "import pandas as pd\n",
    "import matplotlib.pyplot as plt\n",
    "import sqlite3 as sql"
   ]
  },
  {
   "cell_type": "code",
   "execution_count": 2,
   "id": "0cf75a71",
   "metadata": {},
   "outputs": [],
   "source": [
    "path = 'data/database.sqlite'\n",
    "con = sql.connect(path)"
   ]
  },
  {
   "cell_type": "code",
   "execution_count": 3,
   "id": "bca352f7",
   "metadata": {},
   "outputs": [],
   "source": [
    "# Let's read all available tables and explore what we got\n",
    "country = pd.read_sql('select * from Country;', con)\n",
    "league = pd.read_sql('select * from League;', con)\n",
    "player = pd.read_sql('select * from Player;', con)\n",
    "player_attributes = pd.read_sql('select * from Player_Attributes;', con)"
   ]
  },
  {
   "cell_type": "code",
   "execution_count": 4,
   "id": "acb54413",
   "metadata": {},
   "outputs": [],
   "source": [
    "league_country = league.merge(country, on = 'id')\n",
    "league_country = league_country.rename(columns = {'name_x' : 'league', 'name_y' : 'country'})\n",
    "league_country = league_country.drop('id', axis = 1)"
   ]
  },
  {
   "cell_type": "code",
   "execution_count": 5,
   "id": "976f44df",
   "metadata": {},
   "outputs": [
    {
     "data": {
      "text/html": [
       "<div>\n",
       "<style scoped>\n",
       "    .dataframe tbody tr th:only-of-type {\n",
       "        vertical-align: middle;\n",
       "    }\n",
       "\n",
       "    .dataframe tbody tr th {\n",
       "        vertical-align: top;\n",
       "    }\n",
       "\n",
       "    .dataframe thead th {\n",
       "        text-align: right;\n",
       "    }\n",
       "</style>\n",
       "<table border=\"1\" class=\"dataframe\">\n",
       "  <thead>\n",
       "    <tr style=\"text-align: right;\">\n",
       "      <th></th>\n",
       "      <th>country_id</th>\n",
       "      <th>league</th>\n",
       "      <th>country</th>\n",
       "    </tr>\n",
       "  </thead>\n",
       "  <tbody>\n",
       "    <tr>\n",
       "      <th>0</th>\n",
       "      <td>1</td>\n",
       "      <td>Belgium Jupiler League</td>\n",
       "      <td>Belgium</td>\n",
       "    </tr>\n",
       "    <tr>\n",
       "      <th>1</th>\n",
       "      <td>1729</td>\n",
       "      <td>England Premier League</td>\n",
       "      <td>England</td>\n",
       "    </tr>\n",
       "    <tr>\n",
       "      <th>2</th>\n",
       "      <td>4769</td>\n",
       "      <td>France Ligue 1</td>\n",
       "      <td>France</td>\n",
       "    </tr>\n",
       "    <tr>\n",
       "      <th>3</th>\n",
       "      <td>7809</td>\n",
       "      <td>Germany 1. Bundesliga</td>\n",
       "      <td>Germany</td>\n",
       "    </tr>\n",
       "    <tr>\n",
       "      <th>4</th>\n",
       "      <td>10257</td>\n",
       "      <td>Italy Serie A</td>\n",
       "      <td>Italy</td>\n",
       "    </tr>\n",
       "    <tr>\n",
       "      <th>5</th>\n",
       "      <td>13274</td>\n",
       "      <td>Netherlands Eredivisie</td>\n",
       "      <td>Netherlands</td>\n",
       "    </tr>\n",
       "    <tr>\n",
       "      <th>6</th>\n",
       "      <td>15722</td>\n",
       "      <td>Poland Ekstraklasa</td>\n",
       "      <td>Poland</td>\n",
       "    </tr>\n",
       "    <tr>\n",
       "      <th>7</th>\n",
       "      <td>17642</td>\n",
       "      <td>Portugal Liga ZON Sagres</td>\n",
       "      <td>Portugal</td>\n",
       "    </tr>\n",
       "    <tr>\n",
       "      <th>8</th>\n",
       "      <td>19694</td>\n",
       "      <td>Scotland Premier League</td>\n",
       "      <td>Scotland</td>\n",
       "    </tr>\n",
       "    <tr>\n",
       "      <th>9</th>\n",
       "      <td>21518</td>\n",
       "      <td>Spain LIGA BBVA</td>\n",
       "      <td>Spain</td>\n",
       "    </tr>\n",
       "    <tr>\n",
       "      <th>10</th>\n",
       "      <td>24558</td>\n",
       "      <td>Switzerland Super League</td>\n",
       "      <td>Switzerland</td>\n",
       "    </tr>\n",
       "  </tbody>\n",
       "</table>\n",
       "</div>"
      ],
      "text/plain": [
       "    country_id                    league      country\n",
       "0            1    Belgium Jupiler League      Belgium\n",
       "1         1729    England Premier League      England\n",
       "2         4769            France Ligue 1       France\n",
       "3         7809     Germany 1. Bundesliga      Germany\n",
       "4        10257             Italy Serie A        Italy\n",
       "5        13274    Netherlands Eredivisie  Netherlands\n",
       "6        15722        Poland Ekstraklasa       Poland\n",
       "7        17642  Portugal Liga ZON Sagres     Portugal\n",
       "8        19694   Scotland Premier League     Scotland\n",
       "9        21518           Spain LIGA BBVA        Spain\n",
       "10       24558  Switzerland Super League  Switzerland"
      ]
     },
     "execution_count": 5,
     "metadata": {},
     "output_type": "execute_result"
    }
   ],
   "source": [
    "league_country"
   ]
  },
  {
   "cell_type": "code",
   "execution_count": 6,
   "id": "c370f8ba",
   "metadata": {},
   "outputs": [],
   "source": [
    "best_players = pd.read_excel('data/best_players.xlsx')"
   ]
  },
  {
   "cell_type": "code",
   "execution_count": 7,
   "id": "886cb8a6",
   "metadata": {},
   "outputs": [],
   "source": [
    "player_best = player[player.player_name.isin(best_players.name.to_list())]"
   ]
  },
  {
   "cell_type": "markdown",
   "id": "f63694f1",
   "metadata": {},
   "source": [
    "2 names more are present\n",
    "\n",
    "Let's find and remove the extra players from the player_best table"
   ]
  },
  {
   "cell_type": "code",
   "execution_count": 8,
   "id": "6c1468ff",
   "metadata": {},
   "outputs": [
    {
     "data": {
      "text/html": [
       "<div>\n",
       "<style scoped>\n",
       "    .dataframe tbody tr th:only-of-type {\n",
       "        vertical-align: middle;\n",
       "    }\n",
       "\n",
       "    .dataframe tbody tr th {\n",
       "        vertical-align: top;\n",
       "    }\n",
       "\n",
       "    .dataframe thead th {\n",
       "        text-align: right;\n",
       "    }\n",
       "</style>\n",
       "<table border=\"1\" class=\"dataframe\">\n",
       "  <thead>\n",
       "    <tr style=\"text-align: right;\">\n",
       "      <th></th>\n",
       "      <th>season</th>\n",
       "      <th>name</th>\n",
       "      <th>club</th>\n",
       "      <th>champion</th>\n",
       "      <th>league</th>\n",
       "    </tr>\n",
       "  </thead>\n",
       "  <tbody>\n",
       "    <tr>\n",
       "      <th>17</th>\n",
       "      <td>2009–10</td>\n",
       "      <td>Lisandro Lopez</td>\n",
       "      <td>Lyon</td>\n",
       "      <td>0</td>\n",
       "      <td>France Ligue 1</td>\n",
       "    </tr>\n",
       "    <tr>\n",
       "      <th>48</th>\n",
       "      <td>2008–9</td>\n",
       "      <td>Bruno Alves</td>\n",
       "      <td>Porto</td>\n",
       "      <td>1</td>\n",
       "      <td>Portugal Liga ZON Sagres</td>\n",
       "    </tr>\n",
       "  </tbody>\n",
       "</table>\n",
       "</div>"
      ],
      "text/plain": [
       "     season            name   club  champion                    league\n",
       "17  2009–10  Lisandro Lopez   Lyon         0            France Ligue 1\n",
       "48   2008–9     Bruno Alves  Porto         1  Portugal Liga ZON Sagres"
      ]
     },
     "execution_count": 8,
     "metadata": {},
     "output_type": "execute_result"
    }
   ],
   "source": [
    "duplicate_players = player_best.player_name[player_best.player_name.duplicated()].to_list()\n",
    "best_players[best_players.name.isin(duplicate_players)]"
   ]
  },
  {
   "cell_type": "code",
   "execution_count": 9,
   "id": "3bbf032f",
   "metadata": {},
   "outputs": [
    {
     "data": {
      "text/html": [
       "<div>\n",
       "<style scoped>\n",
       "    .dataframe tbody tr th:only-of-type {\n",
       "        vertical-align: middle;\n",
       "    }\n",
       "\n",
       "    .dataframe tbody tr th {\n",
       "        vertical-align: top;\n",
       "    }\n",
       "\n",
       "    .dataframe thead th {\n",
       "        text-align: right;\n",
       "    }\n",
       "</style>\n",
       "<table border=\"1\" class=\"dataframe\">\n",
       "  <thead>\n",
       "    <tr style=\"text-align: right;\">\n",
       "      <th></th>\n",
       "      <th>id</th>\n",
       "      <th>player_api_id</th>\n",
       "      <th>player_name</th>\n",
       "      <th>player_fifa_api_id</th>\n",
       "      <th>birthday</th>\n",
       "      <th>height</th>\n",
       "      <th>weight</th>\n",
       "    </tr>\n",
       "  </thead>\n",
       "  <tbody>\n",
       "    <tr>\n",
       "      <th>1406</th>\n",
       "      <td>1409</td>\n",
       "      <td>25920</td>\n",
       "      <td>Bruno Alves</td>\n",
       "      <td>138110</td>\n",
       "      <td>1981-11-27 00:00:00</td>\n",
       "      <td>187.96</td>\n",
       "      <td>183</td>\n",
       "    </tr>\n",
       "    <tr>\n",
       "      <th>1407</th>\n",
       "      <td>1410</td>\n",
       "      <td>375782</td>\n",
       "      <td>Bruno Alves</td>\n",
       "      <td>210292</td>\n",
       "      <td>1990-06-09 00:00:00</td>\n",
       "      <td>177.80</td>\n",
       "      <td>165</td>\n",
       "    </tr>\n",
       "    <tr>\n",
       "      <th>6177</th>\n",
       "      <td>6184</td>\n",
       "      <td>182456</td>\n",
       "      <td>Lisandro Lopez</td>\n",
       "      <td>215051</td>\n",
       "      <td>1989-09-01 00:00:00</td>\n",
       "      <td>187.96</td>\n",
       "      <td>176</td>\n",
       "    </tr>\n",
       "    <tr>\n",
       "      <th>6178</th>\n",
       "      <td>6185</td>\n",
       "      <td>30536</td>\n",
       "      <td>Lisandro Lopez</td>\n",
       "      <td>142707</td>\n",
       "      <td>1983-03-02 00:00:00</td>\n",
       "      <td>175.26</td>\n",
       "      <td>163</td>\n",
       "    </tr>\n",
       "  </tbody>\n",
       "</table>\n",
       "</div>"
      ],
      "text/plain": [
       "        id  player_api_id     player_name  player_fifa_api_id  \\\n",
       "1406  1409          25920     Bruno Alves              138110   \n",
       "1407  1410         375782     Bruno Alves              210292   \n",
       "6177  6184         182456  Lisandro Lopez              215051   \n",
       "6178  6185          30536  Lisandro Lopez              142707   \n",
       "\n",
       "                 birthday  height  weight  \n",
       "1406  1981-11-27 00:00:00  187.96     183  \n",
       "1407  1990-06-09 00:00:00  177.80     165  \n",
       "6177  1989-09-01 00:00:00  187.96     176  \n",
       "6178  1983-03-02 00:00:00  175.26     163  "
      ]
     },
     "execution_count": 9,
     "metadata": {},
     "output_type": "execute_result"
    }
   ],
   "source": [
    "player_best[player_best.player_name.isin(duplicate_players)]"
   ]
  },
  {
   "cell_type": "markdown",
   "id": "b90dfa03",
   "metadata": {},
   "source": [
    "Lisandro Lopez, best player for 2009-10 season in Ligue 1 is born in 1983, source: https://en.wikipedia.org/wiki/Lisandro_L%C3%B3pez_(footballer,_born_1983)\n",
    "\n",
    "Bruno Alves, best player for the 2008-09 season in Portugal Liga ZON Sagres is born in 1981, source:https://en.wikipedia.org/wiki/Bruno_Alves"
   ]
  },
  {
   "cell_type": "code",
   "execution_count": 10,
   "id": "5ae948fa",
   "metadata": {},
   "outputs": [],
   "source": [
    "player_best = player_best.drop(index = [1407, 6177])"
   ]
  },
  {
   "cell_type": "code",
   "execution_count": 11,
   "id": "fc117cf9",
   "metadata": {},
   "outputs": [],
   "source": [
    "best_players = best_players.merge(player_best, left_on = 'name', right_on = 'player_name')\n",
    "\n",
    "best_players.set_index('id')[['player_api_id', \n",
    "                              'player_fifa_api_id', \n",
    "                              'name', 'season', \n",
    "                              'birthday', 'height', \n",
    "                              'weight', 'league', \n",
    "                              'champion']]\n",
    "best_players.birthday = pd.to_datetime(best_players.birthday)"
   ]
  },
  {
   "cell_type": "code",
   "execution_count": 12,
   "id": "6583ecec",
   "metadata": {},
   "outputs": [
    {
     "name": "stdout",
     "output_type": "stream",
     "text": [
      "<class 'pandas.core.frame.DataFrame'>\n",
      "Int64Index: 72 entries, 0 to 71\n",
      "Data columns (total 12 columns):\n",
      " #   Column              Non-Null Count  Dtype         \n",
      "---  ------              --------------  -----         \n",
      " 0   season              72 non-null     object        \n",
      " 1   name                72 non-null     object        \n",
      " 2   club                72 non-null     object        \n",
      " 3   champion            72 non-null     int64         \n",
      " 4   league              72 non-null     object        \n",
      " 5   id                  72 non-null     int64         \n",
      " 6   player_api_id       72 non-null     int64         \n",
      " 7   player_name         72 non-null     object        \n",
      " 8   player_fifa_api_id  72 non-null     int64         \n",
      " 9   birthday            72 non-null     datetime64[ns]\n",
      " 10  height              72 non-null     float64       \n",
      " 11  weight              72 non-null     int64         \n",
      "dtypes: datetime64[ns](1), float64(1), int64(5), object(5)\n",
      "memory usage: 7.3+ KB\n"
     ]
    }
   ],
   "source": [
    "best_players.info()"
   ]
  },
  {
   "cell_type": "code",
   "execution_count": 13,
   "id": "b41fbdf3",
   "metadata": {},
   "outputs": [
    {
     "name": "stdout",
     "output_type": "stream",
     "text": [
      "<class 'pandas.core.frame.DataFrame'>\n",
      "RangeIndex: 183978 entries, 0 to 183977\n",
      "Data columns (total 42 columns):\n",
      " #   Column               Non-Null Count   Dtype  \n",
      "---  ------               --------------   -----  \n",
      " 0   id                   183978 non-null  int64  \n",
      " 1   player_fifa_api_id   183978 non-null  int64  \n",
      " 2   player_api_id        183978 non-null  int64  \n",
      " 3   date                 183978 non-null  object \n",
      " 4   overall_rating       183142 non-null  float64\n",
      " 5   potential            183142 non-null  float64\n",
      " 6   preferred_foot       183142 non-null  object \n",
      " 7   attacking_work_rate  180748 non-null  object \n",
      " 8   defensive_work_rate  183142 non-null  object \n",
      " 9   crossing             183142 non-null  float64\n",
      " 10  finishing            183142 non-null  float64\n",
      " 11  heading_accuracy     183142 non-null  float64\n",
      " 12  short_passing        183142 non-null  float64\n",
      " 13  volleys              181265 non-null  float64\n",
      " 14  dribbling            183142 non-null  float64\n",
      " 15  curve                181265 non-null  float64\n",
      " 16  free_kick_accuracy   183142 non-null  float64\n",
      " 17  long_passing         183142 non-null  float64\n",
      " 18  ball_control         183142 non-null  float64\n",
      " 19  acceleration         183142 non-null  float64\n",
      " 20  sprint_speed         183142 non-null  float64\n",
      " 21  agility              181265 non-null  float64\n",
      " 22  reactions            183142 non-null  float64\n",
      " 23  balance              181265 non-null  float64\n",
      " 24  shot_power           183142 non-null  float64\n",
      " 25  jumping              181265 non-null  float64\n",
      " 26  stamina              183142 non-null  float64\n",
      " 27  strength             183142 non-null  float64\n",
      " 28  long_shots           183142 non-null  float64\n",
      " 29  aggression           183142 non-null  float64\n",
      " 30  interceptions        183142 non-null  float64\n",
      " 31  positioning          183142 non-null  float64\n",
      " 32  vision               181265 non-null  float64\n",
      " 33  penalties            183142 non-null  float64\n",
      " 34  marking              183142 non-null  float64\n",
      " 35  standing_tackle      183142 non-null  float64\n",
      " 36  sliding_tackle       181265 non-null  float64\n",
      " 37  gk_diving            183142 non-null  float64\n",
      " 38  gk_handling          183142 non-null  float64\n",
      " 39  gk_kicking           183142 non-null  float64\n",
      " 40  gk_positioning       183142 non-null  float64\n",
      " 41  gk_reflexes          183142 non-null  float64\n",
      "dtypes: float64(35), int64(3), object(4)\n",
      "memory usage: 59.0+ MB\n"
     ]
    }
   ],
   "source": [
    "player_attributes.info()"
   ]
  },
  {
   "cell_type": "code",
   "execution_count": 14,
   "id": "4b4fbd64",
   "metadata": {},
   "outputs": [],
   "source": [
    "player_attributes.date = pd.to_datetime(player_attributes.date)"
   ]
  },
  {
   "cell_type": "markdown",
   "id": "64e19d8e",
   "metadata": {},
   "source": [
    "Now, let's make a 'season' column based on the date feature\n",
    "\n",
    "New season usually starts ~July, so"
   ]
  },
  {
   "cell_type": "code",
   "execution_count": 15,
   "id": "158027d3",
   "metadata": {},
   "outputs": [
    {
     "data": {
      "text/plain": [
       "pandas.core.series.Series"
      ]
     },
     "execution_count": 15,
     "metadata": {},
     "output_type": "execute_result"
    }
   ],
   "source": [
    "#player_attributes[player_attributes.date.dt.month > 6].date.dt.year.to_list(),\n",
    "type(player_attributes[player_attributes.date.dt.month < 7].date.dt.year - 1)"
   ]
  },
  {
   "cell_type": "code",
   "execution_count": 16,
   "id": "1be0c679",
   "metadata": {},
   "outputs": [
    {
     "data": {
      "text/plain": [
       "2013    38867\n",
       "2014    32808\n",
       "2015    31834\n",
       "2007    16138\n",
       "2016    14103\n",
       "2012    12632\n",
       "2011    11976\n",
       "2010    10829\n",
       "2009     8993\n",
       "2008     5798\n",
       "Name: date, dtype: int64"
      ]
     },
     "execution_count": 16,
     "metadata": {},
     "output_type": "execute_result"
    }
   ],
   "source": [
    "player_attributes.date.dt.year.value_counts()"
   ]
  },
  {
   "cell_type": "code",
   "execution_count": 17,
   "id": "cb4e2d62",
   "metadata": {},
   "outputs": [],
   "source": [
    "player_attributes['season'] = player_attributes.date"
   ]
  },
  {
   "cell_type": "code",
   "execution_count": 18,
   "id": "b36dc83c",
   "metadata": {},
   "outputs": [
    {
     "data": {
      "text/plain": [
       "0        2016-02-18\n",
       "1        2015-11-19\n",
       "2        2015-09-21\n",
       "3        2015-03-20\n",
       "4        2007-02-22\n",
       "            ...    \n",
       "183973   2009-08-30\n",
       "183974   2009-02-22\n",
       "183975   2008-08-30\n",
       "183976   2007-08-30\n",
       "183977   2007-02-22\n",
       "Name: season, Length: 183978, dtype: datetime64[ns]"
      ]
     },
     "execution_count": 18,
     "metadata": {},
     "output_type": "execute_result"
    }
   ],
   "source": [
    "player_attributes.season"
   ]
  },
  {
   "cell_type": "code",
   "execution_count": 19,
   "id": "20104288",
   "metadata": {},
   "outputs": [
    {
     "data": {
      "text/plain": [
       "array([2015, 2015, 2015, ..., 2008, 2007, 2006], dtype=int64)"
      ]
     },
     "execution_count": 19,
     "metadata": {},
     "output_type": "execute_result"
    }
   ],
   "source": [
    "np.where(player_attributes.season.dt.month > 6, player_attributes.season.dt.year, player_attributes.season.dt.year - 1)"
   ]
  },
  {
   "cell_type": "code",
   "execution_count": 20,
   "id": "1f9f8f78",
   "metadata": {
    "scrolled": true
   },
   "outputs": [
    {
     "data": {
      "text/plain": [
       "2007-02-22    11794\n",
       "2013-09-20     6543\n",
       "2011-08-30     6525\n",
       "2015-09-21     6522\n",
       "2012-08-31     6495\n",
       "              ...  \n",
       "2014-11-26        6\n",
       "2015-09-10        5\n",
       "2015-09-01        5\n",
       "2016-02-13        1\n",
       "2014-07-20        1\n",
       "Name: season, Length: 197, dtype: int64"
      ]
     },
     "execution_count": 20,
     "metadata": {},
     "output_type": "execute_result"
    }
   ],
   "source": [
    "player_attributes.season.value_counts()"
   ]
  },
  {
   "cell_type": "code",
   "execution_count": 21,
   "id": "465c7f24",
   "metadata": {},
   "outputs": [
    {
     "data": {
      "text/plain": [
       "0         2016\n",
       "1         2015\n",
       "2         2015\n",
       "3         2015\n",
       "4         2007\n",
       "          ... \n",
       "183973    2009\n",
       "183974    2009\n",
       "183975    2008\n",
       "183976    2007\n",
       "183977    2007\n",
       "Name: season, Length: 183978, dtype: int64"
      ]
     },
     "execution_count": 21,
     "metadata": {},
     "output_type": "execute_result"
    }
   ],
   "source": [
    "player_attributes.season.dt.year"
   ]
  },
  {
   "cell_type": "code",
   "execution_count": 22,
   "id": "be76e919",
   "metadata": {},
   "outputs": [],
   "source": [
    "player_attributes.season = player_attributes.season.dt.year.astype('str').str.cat((player_attributes.season.dt.year - 1999).astype('str'), sep = '–')"
   ]
  },
  {
   "cell_type": "code",
   "execution_count": 23,
   "id": "0f8665f6",
   "metadata": {},
   "outputs": [
    {
     "data": {
      "text/plain": [
       "0         2016–17\n",
       "1         2015–16\n",
       "2         2015–16\n",
       "3         2015–16\n",
       "4          2007–8\n",
       "           ...   \n",
       "183973    2009–10\n",
       "183974    2009–10\n",
       "183975     2008–9\n",
       "183976     2007–8\n",
       "183977     2007–8\n",
       "Name: season, Length: 183978, dtype: object"
      ]
     },
     "execution_count": 23,
     "metadata": {},
     "output_type": "execute_result"
    }
   ],
   "source": [
    "player_attributes.season"
   ]
  },
  {
   "cell_type": "code",
   "execution_count": null,
   "id": "808c4956",
   "metadata": {},
   "outputs": [],
   "source": [
    "def seasonize_dates(df):\n",
    "    \n",
    "    #Create the season column\n",
    "    df['season'] = player_attributes.date\n",
    "    \n",
    "    #Equate to the current year where date is after June (e.g. 2015-9-12 is for season 2015-16)\n",
    "    #Equate to the previous year where date is before June (e.g. 2011-2-18 is for season 2010-11)\n",
    "    #In this way we only need to add the year after to all records to finish the seasonizing of the dates\n",
    "    df.season = np.where(df.season.dt.month > 6, df.season.dt.year, df.season.dt.year - 1)\n",
    "    \n",
    "    #Add the next year as string to the column (e.g. if 2015 = \"2015-(2015 - 1999)\" =  \"2015-16\")\n",
    "    df.season = df.season.astype('str').str.cat((df.season - 1999).astype('str'), sep = '–')\n",
    "    \n",
    "    return df"
   ]
  },
  {
   "cell_type": "code",
   "execution_count": null,
   "id": "4b94a5df",
   "metadata": {},
   "outputs": [],
   "source": [
    "player_attributes = seasonize_dates(player_attributes)"
   ]
  },
  {
   "cell_type": "markdown",
   "id": "05f3b8e1",
   "metadata": {},
   "source": [
    "Now we can filter by both `player_id` and `season`"
   ]
  },
  {
   "cell_type": "code",
   "execution_count": null,
   "id": "bcd2e5aa",
   "metadata": {},
   "outputs": [],
   "source": [
    "player_attributes"
   ]
  },
  {
   "cell_type": "code",
   "execution_count": null,
   "id": "0a7b6084",
   "metadata": {},
   "outputs": [],
   "source": [
    "best_players"
   ]
  },
  {
   "cell_type": "code",
   "execution_count": null,
   "id": "e189c4df",
   "metadata": {},
   "outputs": [],
   "source": [
    "best_players.league.unique()"
   ]
  },
  {
   "cell_type": "code",
   "execution_count": null,
   "id": "abd77d9d",
   "metadata": {
    "scrolled": true
   },
   "outputs": [],
   "source": [
    "best_players.groupby(best_players.season).first()"
   ]
  },
  {
   "cell_type": "code",
   "execution_count": null,
   "id": "01bb2732",
   "metadata": {},
   "outputs": [],
   "source": [
    "pl_best_players = best_players[best_players.league == 'England Premier League']"
   ]
  },
  {
   "cell_type": "code",
   "execution_count": null,
   "id": "539021ca",
   "metadata": {
    "scrolled": true
   },
   "outputs": [],
   "source": [
    "pl_best_players"
   ]
  },
  {
   "cell_type": "code",
   "execution_count": null,
   "id": "7f13696e",
   "metadata": {},
   "outputs": [],
   "source": [
    "player_attributes = player_attributes.drop_duplicates(subset = ['season', 'player_api_id'])"
   ]
  },
  {
   "cell_type": "code",
   "execution_count": null,
   "id": "a0afbb52",
   "metadata": {},
   "outputs": [],
   "source": [
    "player_attributes"
   ]
  },
  {
   "cell_type": "code",
   "execution_count": null,
   "id": "7d2afbf5",
   "metadata": {},
   "outputs": [],
   "source": [
    "pl_best_players.merge(player_attributes, how = 'left', on = ['season', 'player_api_id'])"
   ]
  },
  {
   "cell_type": "code",
   "execution_count": null,
   "id": "68ae3304",
   "metadata": {},
   "outputs": [],
   "source": [
    "player_attributes[player_attributes.season == player_attributes.season.sort_values().unique()[2]]"
   ]
  },
  {
   "cell_type": "code",
   "execution_count": null,
   "id": "4032ae75",
   "metadata": {},
   "outputs": [],
   "source": [
    "player_attributes.loc[(player_attributes.season == '2008-9') & (player_attributes.id == 7846)]"
   ]
  },
  {
   "cell_type": "code",
   "execution_count": null,
   "id": "ad3fe9be",
   "metadata": {},
   "outputs": [],
   "source": [
    "player_attributes.loc[np.where((player_attributes.season == '2008-9') & (player_attributes.player_api_id == 30865))]"
   ]
  },
  {
   "cell_type": "code",
   "execution_count": null,
   "id": "1ff7b022",
   "metadata": {},
   "outputs": [],
   "source": []
  }
 ],
 "metadata": {
  "kernelspec": {
   "display_name": "Python 3 (ipykernel)",
   "language": "python",
   "name": "python3"
  },
  "language_info": {
   "codemirror_mode": {
    "name": "ipython",
    "version": 3
   },
   "file_extension": ".py",
   "mimetype": "text/x-python",
   "name": "python",
   "nbconvert_exporter": "python",
   "pygments_lexer": "ipython3",
   "version": "3.9.12"
  }
 },
 "nbformat": 4,
 "nbformat_minor": 5
}
